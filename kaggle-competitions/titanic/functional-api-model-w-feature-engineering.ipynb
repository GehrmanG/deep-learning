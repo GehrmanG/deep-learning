{
 "cells": [
  {
   "cell_type": "markdown",
   "id": "8212538f",
   "metadata": {
    "papermill": {
     "duration": 0.007426,
     "end_time": "2025-03-05T16:36:24.999847",
     "exception": false,
     "start_time": "2025-03-05T16:36:24.992421",
     "status": "completed"
    },
    "tags": []
   },
   "source": [
    "# 0. Импорт вспомогательных модулей"
   ]
  },
  {
   "cell_type": "code",
   "execution_count": 1,
   "id": "26b01d7f",
   "metadata": {
    "execution": {
     "iopub.execute_input": "2025-03-05T16:36:25.014314Z",
     "iopub.status.busy": "2025-03-05T16:36:25.014019Z",
     "iopub.status.idle": "2025-03-05T16:36:37.450912Z",
     "shell.execute_reply": "2025-03-05T16:36:37.450184Z"
    },
    "papermill": {
     "duration": 12.445802,
     "end_time": "2025-03-05T16:36:37.452475",
     "exception": false,
     "start_time": "2025-03-05T16:36:25.006673",
     "status": "completed"
    },
    "tags": []
   },
   "outputs": [],
   "source": [
    "import csv\n",
    "import keras\n",
    "from keras import layers\n",
    "from keras import regularizers\n",
    "import numpy as np\n",
    "import matplotlib.pyplot as plt\n"
   ]
  },
  {
   "cell_type": "markdown",
   "id": "a1e659ca",
   "metadata": {
    "papermill": {
     "duration": 0.006391,
     "end_time": "2025-03-05T16:36:37.466133",
     "exception": false,
     "start_time": "2025-03-05T16:36:37.459742",
     "status": "completed"
    },
    "tags": []
   },
   "source": [
    "# 1. Подготовка обучающих данных\n",
    "## 1.1. Выгрузка данных для обучения из файла"
   ]
  },
  {
   "cell_type": "code",
   "execution_count": 2,
   "id": "7b3d4572",
   "metadata": {
    "execution": {
     "iopub.execute_input": "2025-03-05T16:36:37.481123Z",
     "iopub.status.busy": "2025-03-05T16:36:37.480427Z",
     "iopub.status.idle": "2025-03-05T16:36:37.485147Z",
     "shell.execute_reply": "2025-03-05T16:36:37.484469Z"
    },
    "papermill": {
     "duration": 0.013617,
     "end_time": "2025-03-05T16:36:37.486472",
     "exception": false,
     "start_time": "2025-03-05T16:36:37.472855",
     "status": "completed"
    },
    "tags": []
   },
   "outputs": [],
   "source": [
    "def read_from_file(file_name):\n",
    "    with open(file_name, mode=\"r\", encoding=\"utf-8\") as csvfile:\n",
    "        reader = csv.DictReader(csvfile)\n",
    "        features = reader.fieldnames\n",
    "        read_data = [\n",
    "            {feature: row[feature] for feature in features} for row in reader\n",
    "        ]\n",
    "    return features, read_data\n"
   ]
  },
  {
   "cell_type": "code",
   "execution_count": 3,
   "id": "b4d1b1e6",
   "metadata": {
    "execution": {
     "iopub.execute_input": "2025-03-05T16:36:37.501148Z",
     "iopub.status.busy": "2025-03-05T16:36:37.500867Z",
     "iopub.status.idle": "2025-03-05T16:36:37.515080Z",
     "shell.execute_reply": "2025-03-05T16:36:37.514297Z"
    },
    "papermill": {
     "duration": 0.023259,
     "end_time": "2025-03-05T16:36:37.516556",
     "exception": false,
     "start_time": "2025-03-05T16:36:37.493297",
     "status": "completed"
    },
    "scrolled": true,
    "tags": []
   },
   "outputs": [],
   "source": [
    "_, read_data = read_from_file(\"/kaggle/input/titanic/train.csv\")\n",
    "# read_data\n"
   ]
  },
  {
   "cell_type": "markdown",
   "id": "1307345e",
   "metadata": {
    "papermill": {
     "duration": 0.006419,
     "end_time": "2025-03-05T16:36:37.529982",
     "exception": false,
     "start_time": "2025-03-05T16:36:37.523563",
     "status": "completed"
    },
    "tags": []
   },
   "source": [
    "## 1.2. Выделение данных и меток для обучения "
   ]
  },
  {
   "cell_type": "code",
   "execution_count": 4,
   "id": "a64c1c54",
   "metadata": {
    "execution": {
     "iopub.execute_input": "2025-03-05T16:36:37.544188Z",
     "iopub.status.busy": "2025-03-05T16:36:37.543888Z",
     "iopub.status.idle": "2025-03-05T16:36:37.548746Z",
     "shell.execute_reply": "2025-03-05T16:36:37.548026Z"
    },
    "papermill": {
     "duration": 0.013616,
     "end_time": "2025-03-05T16:36:37.550027",
     "exception": false,
     "start_time": "2025-03-05T16:36:37.536411",
     "status": "completed"
    },
    "scrolled": true,
    "tags": []
   },
   "outputs": [],
   "source": [
    "np.random.shuffle(read_data)\n",
    "features_to_use = (\"Pclass\", \"Sex\", \"Age\", \"SibSp\", \"Parch\", \"Embarked\")\n",
    "train_data_raw = {\n",
    "    feature: [row[feature] for row in read_data]\n",
    "    for feature in features_to_use\n",
    "}\n",
    "# train_data_raw\n"
   ]
  },
  {
   "cell_type": "markdown",
   "id": "6e86980d",
   "metadata": {
    "papermill": {
     "duration": 0.006405,
     "end_time": "2025-03-05T16:36:37.563133",
     "exception": false,
     "start_time": "2025-03-05T16:36:37.556728",
     "status": "completed"
    },
    "tags": []
   },
   "source": [
    "## 1.3. Векторизация"
   ]
  },
  {
   "cell_type": "code",
   "execution_count": 5,
   "id": "3a89703f",
   "metadata": {
    "execution": {
     "iopub.execute_input": "2025-03-05T16:36:37.577329Z",
     "iopub.status.busy": "2025-03-05T16:36:37.577030Z",
     "iopub.status.idle": "2025-03-05T16:36:37.586072Z",
     "shell.execute_reply": "2025-03-05T16:36:37.585403Z"
    },
    "papermill": {
     "duration": 0.017682,
     "end_time": "2025-03-05T16:36:37.587373",
     "exception": false,
     "start_time": "2025-03-05T16:36:37.569691",
     "status": "completed"
    },
    "scrolled": true,
    "tags": []
   },
   "outputs": [],
   "source": [
    "def to_one_hot(data, *, master=None):\n",
    "    encoded_data = data.copy()\n",
    "    if master:\n",
    "        categories = sorted(set(master))\n",
    "    elif not master:\n",
    "        categories = sorted(set(encoded_data))\n",
    "    for i, val in enumerate(encoded_data):\n",
    "        # result = np.zeros(len(categories), dtype=\"float32\")\n",
    "        result = [0 for _ in categories]\n",
    "        result[categories.index(val)] = 1\n",
    "        encoded_data[i] = result\n",
    "    return encoded_data\n",
    "\n",
    "def copy_data(data):\n",
    "    return {key: data[key].copy() for key in data}\n",
    "\n",
    "def vectorize_data(data, *, master=None, catg_ftrs=(\"Pclass\", \"Sex\", \"Embarked\")):\n",
    "    vectorized_data = copy_data(data)\n",
    "    cont_ftrs = tuple(\n",
    "        ftr for ftr in vectorized_data.keys() if ftr not in catg_ftrs\n",
    "    )\n",
    "    if master:\n",
    "        for ftr in catg_ftrs:\n",
    "            vectorized_data[ftr] = to_one_hot(vectorized_data[ftr],\n",
    "                                              master=master[ftr])\n",
    "    elif not master:\n",
    "        for ftr in catg_ftrs:\n",
    "            vectorized_data[ftr] = to_one_hot(vectorized_data[ftr])\n",
    "    for ftr in cont_ftrs:\n",
    "        for i, val in enumerate(vectorized_data[ftr]):\n",
    "            try:\n",
    "                vectorized_data[ftr][i] = float(val)\n",
    "            except ValueError:\n",
    "                vectorized_data[ftr][i] = None\n",
    "    return vectorized_data\n",
    "\n",
    "\n",
    "train_data_vectorized = vectorize_data(train_data_raw)\n",
    "# train_data_vectorized"
   ]
  },
  {
   "cell_type": "markdown",
   "id": "d0ee172a",
   "metadata": {
    "papermill": {
     "duration": 0.006451,
     "end_time": "2025-03-05T16:36:37.600618",
     "exception": false,
     "start_time": "2025-03-05T16:36:37.594167",
     "status": "completed"
    },
    "tags": []
   },
   "source": [
    "## 1.4. Обработка недостающих значений"
   ]
  },
  {
   "cell_type": "code",
   "execution_count": 6,
   "id": "541751a2",
   "metadata": {
    "execution": {
     "iopub.execute_input": "2025-03-05T16:36:37.614896Z",
     "iopub.status.busy": "2025-03-05T16:36:37.614525Z",
     "iopub.status.idle": "2025-03-05T16:36:37.626790Z",
     "shell.execute_reply": "2025-03-05T16:36:37.625890Z"
    },
    "papermill": {
     "duration": 0.020914,
     "end_time": "2025-03-05T16:36:37.628133",
     "exception": false,
     "start_time": "2025-03-05T16:36:37.607219",
     "status": "completed"
    },
    "scrolled": true,
    "tags": []
   },
   "outputs": [],
   "source": [
    "def get_median_val(data, ftr, group=None):\n",
    "    data = copy_data(data)\n",
    "    if group:\n",
    "        filtered_data = [\n",
    "            val for i, val in enumerate(data[ftr])\n",
    "            if (tuple(data[\"Pclass\"][i]), tuple(data[\"Sex\"][i])) == group\n",
    "        ]\n",
    "        sorted_data = sorted([val for val in filtered_data if val != None])\n",
    "    else:\n",
    "        sorted_data = sorted([val for val in data[ftr] if val != None])\n",
    "    if len(sorted_data) % 2 == 0:\n",
    "        meadian_value = (\n",
    "            (sorted_data[int(len(sorted_data) / 2)]\n",
    "             + sorted_data[int(len(sorted_data)/2 + 1)]) / 2\n",
    "        )\n",
    "    else:\n",
    "        meadian_value = sorted_data[int((len(sorted_data) + 1) / 2)]\n",
    "    return meadian_value\n",
    "\n",
    "def fill_data(data):\n",
    "    filled_data = copy_data(data)\n",
    "    non_empty_count = sum(\n",
    "            [1 for val in filled_data[\"Age\"] if val != None]\n",
    "    )\n",
    "    if non_empty_count < len(filled_data[\"Age\"]):\n",
    "        median_values = {\n",
    "            ((1., 0., 0.), (1., 0.)): get_median_val(data, \"Age\", ((1., 0., 0.), (1., 0.))),    # Pclass: \"1\", Sex: \"female\"\n",
    "            ((1., 0., 0.), (0., 1.)): get_median_val(data, \"Age\", ((1., 0., 0.), (0., 1.))),    # Pclass: \"1\", Sex: \"male\"\n",
    "            ((0., 1., 0.), (1., 0.)): get_median_val(data, \"Age\", ((0., 1., 0.), (1., 0.))),    # Pclass: \"2\", Sex: \"female\"\n",
    "            ((0., 1., 0.), (0., 1.)): get_median_val(data, \"Age\", ((0., 1., 0.), (0., 1.))),    # Pclass: \"2\", Sex: \"male\"\n",
    "            ((0., 0., 1.), (1., 0.)): get_median_val(data, \"Age\", ((0., 0., 1.), (1., 0.))),    # Pclass: \"3\", Sex: \"female\"\n",
    "            ((0., 0., 1.), (0., 1.)): get_median_val(data, \"Age\", ((0., 0., 1.), (0., 1.))),    # Pclass: \"3\", Sex: \"male\"\n",
    "        }\n",
    "        for i, val in enumerate(filled_data[\"Age\"]):\n",
    "            if not val:\n",
    "                filled_data[\"Age\"][i] = median_values[\n",
    "                    (tuple(filled_data[\"Pclass\"][i]) , tuple(filled_data[\"Sex\"][i]))\n",
    "                ]\n",
    "    return filled_data\n",
    "\n",
    "\n",
    "\n",
    "train_data_filled = fill_data(train_data_vectorized)\n",
    "# train_data_filled[\"Age\"]"
   ]
  },
  {
   "cell_type": "markdown",
   "id": "af786e79",
   "metadata": {
    "papermill": {
     "duration": 0.006638,
     "end_time": "2025-03-05T16:36:37.641453",
     "exception": false,
     "start_time": "2025-03-05T16:36:37.634815",
     "status": "completed"
    },
    "tags": []
   },
   "source": [
    "## 1.5. Конструирование признаков"
   ]
  },
  {
   "cell_type": "code",
   "execution_count": 7,
   "id": "92890bbd",
   "metadata": {
    "execution": {
     "iopub.execute_input": "2025-03-05T16:36:37.655907Z",
     "iopub.status.busy": "2025-03-05T16:36:37.655525Z",
     "iopub.status.idle": "2025-03-05T16:36:37.864046Z",
     "shell.execute_reply": "2025-03-05T16:36:37.862976Z"
    },
    "papermill": {
     "duration": 0.217554,
     "end_time": "2025-03-05T16:36:37.865712",
     "exception": false,
     "start_time": "2025-03-05T16:36:37.648158",
     "status": "completed"
    },
    "scrolled": true,
    "tags": []
   },
   "outputs": [],
   "source": [
    "def add_features(data):\n",
    "    data = copy_data(data)\n",
    "    result = {\"AgeGrp\": []}\n",
    "    for val in data[\"Age\"]:\n",
    "        if 0 <= val < 10:\n",
    "            result[\"AgeGrp\"].append(0.)\n",
    "        elif 10 <= val < 20:\n",
    "            result[\"AgeGrp\"].append(1.)\n",
    "        elif 20 <= val < 30:\n",
    "            result[\"AgeGrp\"].append(2.)\n",
    "        elif 30 <= val < 40:\n",
    "            result[\"AgeGrp\"].append(3.)\n",
    "        elif 40 <= val < 50:\n",
    "            result[\"AgeGrp\"].append(4.)\n",
    "        elif 50 <= val < 60:\n",
    "            result[\"AgeGrp\"].append(5.)\n",
    "        elif 60 <= val < 70:\n",
    "            result[\"AgeGrp\"].append(6.)\n",
    "        elif 70 <= val:\n",
    "            result[\"AgeGrp\"].append(7.)\n",
    "    result[\"AgeGrp\"] = to_one_hot(result[\"AgeGrp\"])\n",
    "    data.update(result)\n",
    "    return data\n",
    "\n",
    "\n",
    "train_data_upgraded = add_features(train_data_filled)\n",
    "# train_data_upgraded"
   ]
  },
  {
   "cell_type": "markdown",
   "id": "f9d9bba4",
   "metadata": {
    "papermill": {
     "duration": 0.009243,
     "end_time": "2025-03-05T16:36:37.885013",
     "exception": false,
     "start_time": "2025-03-05T16:36:37.875770",
     "status": "completed"
    },
    "tags": []
   },
   "source": [
    "## 1.6. Нормализация значений"
   ]
  },
  {
   "cell_type": "code",
   "execution_count": 8,
   "id": "b8d9b854",
   "metadata": {
    "editable": true,
    "execution": {
     "iopub.execute_input": "2025-03-05T16:36:37.903879Z",
     "iopub.status.busy": "2025-03-05T16:36:37.903519Z",
     "iopub.status.idle": "2025-03-05T16:36:37.910609Z",
     "shell.execute_reply": "2025-03-05T16:36:37.909912Z"
    },
    "papermill": {
     "duration": 0.016639,
     "end_time": "2025-03-05T16:36:37.911979",
     "exception": false,
     "start_time": "2025-03-05T16:36:37.895340",
     "status": "completed"
    },
    "scrolled": true,
    "slideshow": {
     "slide_type": ""
    },
    "tags": []
   },
   "outputs": [],
   "source": [
    "def normalize_data(data, *, master=None):\n",
    "    normalized_data = copy_data(data)\n",
    "    if master:\n",
    "        master_data = copy_data(master)\n",
    "    elif not master:\n",
    "        master_data = copy_data(data)\n",
    "    cont_ftrs = (\"Age\", \"Parch\", \"SibSp\")\n",
    "    for ftr in cont_ftrs:\n",
    "        mean_val = (\n",
    "            sum([val for val in master_data[ftr] if val])\n",
    "            / len(master_data[ftr])\n",
    "        )\n",
    "        std_dev = np.sqrt(\n",
    "            sum([(val - mean_val)**2 for val in master_data[ftr]\n",
    "                 if val]) / len(master_data[ftr])\n",
    "        )\n",
    "        for i, _ in enumerate(normalized_data[ftr]):\n",
    "            normalized_data[ftr][i] -= mean_val\n",
    "            normalized_data[ftr][i] = [normalized_data[ftr][i] / std_dev]\n",
    "    return normalized_data\n",
    "    \n",
    "\n",
    "train_data_normalized = normalize_data(train_data_upgraded)\n",
    "# train_data_normalized\n"
   ]
  },
  {
   "cell_type": "markdown",
   "id": "67127bef",
   "metadata": {
    "papermill": {
     "duration": 0.006399,
     "end_time": "2025-03-05T16:36:37.925122",
     "exception": false,
     "start_time": "2025-03-05T16:36:37.918723",
     "status": "completed"
    },
    "tags": []
   },
   "source": [
    "## 1.7. Формирование массивов данных для обучения"
   ]
  },
  {
   "cell_type": "code",
   "execution_count": 9,
   "id": "ce81ef19",
   "metadata": {
    "execution": {
     "iopub.execute_input": "2025-03-05T16:36:37.940055Z",
     "iopub.status.busy": "2025-03-05T16:36:37.939725Z",
     "iopub.status.idle": "2025-03-05T16:36:37.946746Z",
     "shell.execute_reply": "2025-03-05T16:36:37.946030Z"
    },
    "papermill": {
     "duration": 0.016148,
     "end_time": "2025-03-05T16:36:37.948082",
     "exception": false,
     "start_time": "2025-03-05T16:36:37.931934",
     "status": "completed"
    },
    "tags": []
   },
   "outputs": [],
   "source": [
    "train_data = {\n",
    "    ftr: np.array(train_data_normalized[ftr].copy(), dtype=\"float32\")\n",
    "    for ftr in train_data_normalized\n",
    "}\n",
    "train_labels = np.array([row[\"Survived\"] for row in read_data], dtype=\"float32\")\n",
    "# train_data\n"
   ]
  },
  {
   "cell_type": "markdown",
   "id": "210b24ea",
   "metadata": {
    "papermill": {
     "duration": 0.006478,
     "end_time": "2025-03-05T16:36:37.961368",
     "exception": false,
     "start_time": "2025-03-05T16:36:37.954890",
     "status": "completed"
    },
    "tags": []
   },
   "source": [
    "# 2. Обучение модели\n",
    "## 2.1. Валидация"
   ]
  },
  {
   "cell_type": "code",
   "execution_count": 10,
   "id": "73d19423",
   "metadata": {
    "execution": {
     "iopub.execute_input": "2025-03-05T16:36:37.975773Z",
     "iopub.status.busy": "2025-03-05T16:36:37.975399Z",
     "iopub.status.idle": "2025-03-05T16:40:03.500400Z",
     "shell.execute_reply": "2025-03-05T16:40:03.499514Z"
    },
    "papermill": {
     "duration": 205.541067,
     "end_time": "2025-03-05T16:40:03.508998",
     "exception": false,
     "start_time": "2025-03-05T16:36:37.967931",
     "status": "completed"
    },
    "tags": []
   },
   "outputs": [
    {
     "name": "stdout",
     "output_type": "stream",
     "text": [
      "Processing fold #1 out of 10...\n",
      "Processing fold #2 out of 10...\n",
      "Processing fold #3 out of 10...\n",
      "Processing fold #4 out of 10...\n",
      "Processing fold #5 out of 10...\n",
      "Processing fold #6 out of 10...\n",
      "Processing fold #7 out of 10...\n",
      "Processing fold #8 out of 10...\n",
      "Processing fold #9 out of 10...\n",
      "Processing fold #10 out of 10...\n",
      "Done.\n"
     ]
    }
   ],
   "source": [
    "def build_model():\n",
    "    num_of_neurons = 64\n",
    "    num_of_layers = 2\n",
    "    dropout_ratio = .50\n",
    "    inputs = [\n",
    "        keras.Input(shape=(train_data[ftr].shape[1], ), name=ftr)\n",
    "        for ftr in train_data\n",
    "    ]\n",
    "    features = layers.Concatenate()(inputs)\n",
    "    for i in range(num_of_layers):\n",
    "        features = layers.Dense(int(num_of_neurons / 2**i),\n",
    "                                activation=\"relu\",\n",
    "                                name=f\"Dense{i+1}\")(features)\n",
    "        features = layers.Dropout(dropout_ratio, name=f\"Dropout{i+1}\")(features)\n",
    "    outputs = layers.Dense(1, activation=\"sigmoid\", name=\"Output\")(features)\n",
    "    model = keras.Model(inputs=inputs, outputs=outputs)\n",
    "    # model.summary()\n",
    "    model.compile(optimizer=keras.optimizers.RMSprop(learning_rate=5.0e-3),\n",
    "                  loss=\"binary_crossentropy\",\n",
    "                  metrics=[\"accuracy\"])\n",
    "    return model\n",
    "\n",
    "\n",
    "k = 10\n",
    "num_of_val_samples = len(train_labels) // k\n",
    "num_of_epochs = 300\n",
    "validation_losses = []\n",
    "validation_accuracies = []\n",
    "batch_size = 128\n",
    "callback = keras.callbacks.EarlyStopping(patience=5, \n",
    "                                         # restore_best_weights=True, \n",
    "                                         start_from_epoch=10)\n",
    "for i in range(k):\n",
    "    print(f\"Processing fold #{i+1} out of {k}...\")\n",
    "    val_data = {}\n",
    "    train_data_partial = {}\n",
    "    for ftr in train_data:\n",
    "        val_data.update(\n",
    "            {ftr:\n",
    "             train_data[ftr][i*num_of_val_samples:(i+1)*num_of_val_samples]}\n",
    "        )\n",
    "        train_data_partial.update(\n",
    "            {ftr:\n",
    "             np.concatenate(\n",
    "                 [train_data[ftr][:i*num_of_val_samples],\n",
    "                  train_data[ftr][(i+1)*num_of_val_samples:]]\n",
    "             )}\n",
    "        )\n",
    "    val_labels = train_labels[i*num_of_val_samples:(i+1)*num_of_val_samples]\n",
    "    train_labels_partial = np.concatenate(\n",
    "        [train_labels[:i*num_of_val_samples],\n",
    "         train_labels[(i+1)*num_of_val_samples:]]\n",
    "    )\n",
    "    model = build_model()\n",
    "    history = model.fit(train_data_partial,\n",
    "                        train_labels_partial,\n",
    "                        epochs=num_of_epochs,\n",
    "                        batch_size=batch_size,\n",
    "                        validation_data=(val_data, val_labels),\n",
    "                        verbose=0)\n",
    "    validation_loss_history = history.history[\"val_loss\"]\n",
    "    validation_losses.append(validation_loss_history)\n",
    "    validation_accuracy_history = history.history[\"val_accuracy\"]\n",
    "    validation_accuracies.append(validation_accuracy_history)\n",
    "print(\"Done.\")\n"
   ]
  },
  {
   "cell_type": "markdown",
   "id": "0f28180c",
   "metadata": {
    "papermill": {
     "duration": 0.006872,
     "end_time": "2025-03-05T16:40:03.522908",
     "exception": false,
     "start_time": "2025-03-05T16:40:03.516036",
     "status": "completed"
    },
    "tags": []
   },
   "source": [
    "## 2.2. Визуализация результатов валидации"
   ]
  },
  {
   "cell_type": "code",
   "execution_count": 11,
   "id": "43e468b6",
   "metadata": {
    "editable": true,
    "execution": {
     "iopub.execute_input": "2025-03-05T16:40:03.538053Z",
     "iopub.status.busy": "2025-03-05T16:40:03.537737Z",
     "iopub.status.idle": "2025-03-05T16:40:03.884546Z",
     "shell.execute_reply": "2025-03-05T16:40:03.883756Z"
    },
    "papermill": {
     "duration": 0.356437,
     "end_time": "2025-03-05T16:40:03.886308",
     "exception": false,
     "start_time": "2025-03-05T16:40:03.529871",
     "status": "completed"
    },
    "slideshow": {
     "slide_type": ""
    },
    "tags": []
   },
   "outputs": [
    {
     "data": {
      "image/png": "[encoded data removed]",
      "text/plain": [
       "<Figure size 640x480 with 2 Axes>"
      ]
     },
     "metadata": {},
     "output_type": "display_data"
    }
   ],
   "source": [
    "validation_losses_average = [\n",
    "    np.mean([val_los[i] for val_los in validation_losses])\n",
    "    for i in range(num_of_epochs)\n",
    "]\n",
    "validation_accuracies_average = [\n",
    "    np.mean([val_acc[i] for val_acc in validation_accuracies])\n",
    "    for i in range(num_of_epochs)\n",
    "]\n",
    "fig, ax1 = plt.subplots()\n",
    "color = \"tab:orange\"\n",
    "ax1.plot(\n",
    "    range(1, num_of_epochs+1), validation_losses_average, color=color\n",
    ")\n",
    "ax1.set_xlabel(\"Epochs\")\n",
    "ax1.set_ylabel(\"Loss\")\n",
    "ax1.tick_params(axis=\"y\", labelcolor=color)\n",
    "ax2 = ax1.twinx()\n",
    "color = \"tab:blue\"\n",
    "ax2.plot(\n",
    "    range(1, num_of_epochs+1), validation_accuracies_average, color=color\n",
    ")\n",
    "ax2.set_ylabel(\"Accuracy\")\n",
    "ax2.tick_params(axis=\"y\", labelcolor=color)\n",
    "fig.tight_layout()\n",
    "plt.show()\n"
   ]
  },
  {
   "cell_type": "code",
   "execution_count": 12,
   "id": "f28b6518",
   "metadata": {
    "execution": {
     "iopub.execute_input": "2025-03-05T16:40:03.904951Z",
     "iopub.status.busy": "2025-03-05T16:40:03.904670Z",
     "iopub.status.idle": "2025-03-05T16:40:04.025749Z",
     "shell.execute_reply": "2025-03-05T16:40:04.024628Z"
    },
    "papermill": {
     "duration": 0.131878,
     "end_time": "2025-03-05T16:40:04.027239",
     "exception": false,
     "start_time": "2025-03-05T16:40:03.895361",
     "status": "completed"
    },
    "tags": []
   },
   "outputs": [
    {
     "data": {
      "image/png": "[encoded data removed]",
      "text/plain": [
       "<Figure size 640x480 with 1 Axes>"
      ]
     },
     "metadata": {},
     "output_type": "display_data"
    }
   ],
   "source": [
    "validation_losses_truncated = validation_losses_average[50:150]\n",
    "plt.plot(range(50,150), validation_losses_truncated)\n",
    "plt.xlabel(\"Epochs\")\n",
    "plt.ylabel(\"Loss\")\n",
    "plt.show()\n"
   ]
  },
  {
   "cell_type": "markdown",
   "id": "bacab57f",
   "metadata": {
    "papermill": {
     "duration": 0.012197,
     "end_time": "2025-03-05T16:40:04.052851",
     "exception": false,
     "start_time": "2025-03-05T16:40:04.040654",
     "status": "completed"
    },
    "tags": []
   },
   "source": [
    "## 2.3 Определение эпохи переобучения"
   ]
  },
  {
   "cell_type": "code",
   "execution_count": 13,
   "id": "91dfabbb",
   "metadata": {
    "execution": {
     "iopub.execute_input": "2025-03-05T16:40:04.079147Z",
     "iopub.status.busy": "2025-03-05T16:40:04.078576Z",
     "iopub.status.idle": "2025-03-05T16:40:04.085634Z",
     "shell.execute_reply": "2025-03-05T16:40:04.084705Z"
    },
    "papermill": {
     "duration": 0.024951,
     "end_time": "2025-03-05T16:40:04.087310",
     "exception": false,
     "start_time": "2025-03-05T16:40:04.062359",
     "status": "completed"
    },
    "tags": []
   },
   "outputs": [
    {
     "data": {
      "text/plain": [
       "16"
      ]
     },
     "execution_count": 13,
     "metadata": {},
     "output_type": "execute_result"
    }
   ],
   "source": [
    "oferfitting_epoch = (\n",
    "    validation_losses_average.index(min(validation_losses_average))\n",
    ")\n",
    "oferfitting_epoch\n"
   ]
  },
  {
   "cell_type": "code",
   "execution_count": 14,
   "id": "babb40aa",
   "metadata": {
    "execution": {
     "iopub.execute_input": "2025-03-05T16:40:04.114512Z",
     "iopub.status.busy": "2025-03-05T16:40:04.114094Z",
     "iopub.status.idle": "2025-03-05T16:40:04.120218Z",
     "shell.execute_reply": "2025-03-05T16:40:04.119404Z"
    },
    "papermill": {
     "duration": 0.023356,
     "end_time": "2025-03-05T16:40:04.121470",
     "exception": false,
     "start_time": "2025-03-05T16:40:04.098114",
     "status": "completed"
    },
    "tags": []
   },
   "outputs": [
    {
     "data": {
      "text/plain": [
       "(0.8235954940319061, 0.4183677762746811)"
      ]
     },
     "execution_count": 14,
     "metadata": {},
     "output_type": "execute_result"
    }
   ],
   "source": [
    "validation_accuracies_average[oferfitting_epoch], min(validation_losses_average)"
   ]
  },
  {
   "cell_type": "markdown",
   "id": "68a6b401",
   "metadata": {
    "papermill": {
     "duration": 0.00903,
     "end_time": "2025-03-05T16:40:04.139683",
     "exception": false,
     "start_time": "2025-03-05T16:40:04.130653",
     "status": "completed"
    },
    "tags": []
   },
   "source": [
    "## 2.3. Обучение новой модели"
   ]
  },
  {
   "cell_type": "code",
   "execution_count": 15,
   "id": "a1d4ee2b",
   "metadata": {
    "execution": {
     "iopub.execute_input": "2025-03-05T16:40:04.159552Z",
     "iopub.status.busy": "2025-03-05T16:40:04.159110Z",
     "iopub.status.idle": "2025-03-05T16:40:07.861224Z",
     "shell.execute_reply": "2025-03-05T16:40:07.859779Z"
    },
    "papermill": {
     "duration": 3.714379,
     "end_time": "2025-03-05T16:40:07.863321",
     "exception": false,
     "start_time": "2025-03-05T16:40:04.148942",
     "status": "completed"
    },
    "tags": []
   },
   "outputs": [
    {
     "name": "stdout",
     "output_type": "stream",
     "text": [
      "Fitting new model...\n",
      "New model has been fitted.\n"
     ]
    }
   ],
   "source": [
    "new_model = build_model()\n",
    "print(\"Fitting new model...\")\n",
    "new_model.fit(train_data,\n",
    "              train_labels,\n",
    "              epochs=oferfitting_epoch,\n",
    "              batch_size=batch_size,\n",
    "              verbose=0)\n",
    "print(\"New model has been fitted.\")\n"
   ]
  },
  {
   "cell_type": "code",
   "execution_count": 16,
   "id": "7b462285",
   "metadata": {
    "execution": {
     "iopub.execute_input": "2025-03-05T16:40:07.891723Z",
     "iopub.status.busy": "2025-03-05T16:40:07.891213Z",
     "iopub.status.idle": "2025-03-05T16:40:07.895301Z",
     "shell.execute_reply": "2025-03-05T16:40:07.894528Z"
    },
    "papermill": {
     "duration": 0.020688,
     "end_time": "2025-03-05T16:40:07.896448",
     "exception": false,
     "start_time": "2025-03-05T16:40:07.875760",
     "status": "completed"
    },
    "tags": []
   },
   "outputs": [],
   "source": [
    "# model.save(\"/kaggle/working/my_model.keras\")"
   ]
  },
  {
   "cell_type": "code",
   "execution_count": 17,
   "id": "2dc049ce",
   "metadata": {
    "execution": {
     "iopub.execute_input": "2025-03-05T16:40:07.916841Z",
     "iopub.status.busy": "2025-03-05T16:40:07.916479Z",
     "iopub.status.idle": "2025-03-05T16:40:07.919878Z",
     "shell.execute_reply": "2025-03-05T16:40:07.919134Z"
    },
    "papermill": {
     "duration": 0.014729,
     "end_time": "2025-03-05T16:40:07.921046",
     "exception": false,
     "start_time": "2025-03-05T16:40:07.906317",
     "status": "completed"
    },
    "tags": []
   },
   "outputs": [],
   "source": [
    "# my_model = keras.models.load_model(\"/kaggle/working/my_model.keras\")"
   ]
  },
  {
   "cell_type": "markdown",
   "id": "bb12aff9",
   "metadata": {
    "papermill": {
     "duration": 0.008761,
     "end_time": "2025-03-05T16:40:07.938931",
     "exception": false,
     "start_time": "2025-03-05T16:40:07.930170",
     "status": "completed"
    },
    "tags": []
   },
   "source": [
    "# 3. Подготовка контрольных данных\n",
    "## 3.1. Выгрузка контрольных данных из файла"
   ]
  },
  {
   "cell_type": "code",
   "execution_count": 18,
   "id": "361ef8d7",
   "metadata": {
    "execution": {
     "iopub.execute_input": "2025-03-05T16:40:07.957562Z",
     "iopub.status.busy": "2025-03-05T16:40:07.957300Z",
     "iopub.status.idle": "2025-03-05T16:40:07.968811Z",
     "shell.execute_reply": "2025-03-05T16:40:07.968134Z"
    },
    "papermill": {
     "duration": 0.022217,
     "end_time": "2025-03-05T16:40:07.970073",
     "exception": false,
     "start_time": "2025-03-05T16:40:07.947856",
     "status": "completed"
    },
    "scrolled": true,
    "tags": []
   },
   "outputs": [],
   "source": [
    "_, read_data = read_from_file(\"/kaggle/input/titanic/test.csv\")\n",
    "# read_data\n"
   ]
  },
  {
   "cell_type": "markdown",
   "id": "94c813a0",
   "metadata": {
    "papermill": {
     "duration": 0.008564,
     "end_time": "2025-03-05T16:40:07.987601",
     "exception": false,
     "start_time": "2025-03-05T16:40:07.979037",
     "status": "completed"
    },
    "tags": []
   },
   "source": [
    "## 3.2. Выделение контрольных данных"
   ]
  },
  {
   "cell_type": "code",
   "execution_count": 19,
   "id": "07246c42",
   "metadata": {
    "execution": {
     "iopub.execute_input": "2025-03-05T16:40:08.006494Z",
     "iopub.status.busy": "2025-03-05T16:40:08.006192Z",
     "iopub.status.idle": "2025-03-05T16:40:08.010241Z",
     "shell.execute_reply": "2025-03-05T16:40:08.009526Z"
    },
    "papermill": {
     "duration": 0.015099,
     "end_time": "2025-03-05T16:40:08.011489",
     "exception": false,
     "start_time": "2025-03-05T16:40:07.996390",
     "status": "completed"
    },
    "scrolled": true,
    "tags": []
   },
   "outputs": [],
   "source": [
    "test_data_raw = {\n",
    "    feature: [row[feature] for row in read_data]\n",
    "    for feature in features_to_use\n",
    "}\n",
    "# test_data_raw\n"
   ]
  },
  {
   "cell_type": "markdown",
   "id": "ef944d53",
   "metadata": {
    "papermill": {
     "duration": 0.008689,
     "end_time": "2025-03-05T16:40:08.029058",
     "exception": false,
     "start_time": "2025-03-05T16:40:08.020369",
     "status": "completed"
    },
    "tags": []
   },
   "source": [
    "## 3.3. Векторизация"
   ]
  },
  {
   "cell_type": "code",
   "execution_count": 20,
   "id": "bb05fadc",
   "metadata": {
    "execution": {
     "iopub.execute_input": "2025-03-05T16:40:08.048525Z",
     "iopub.status.busy": "2025-03-05T16:40:08.048233Z",
     "iopub.status.idle": "2025-03-05T16:40:08.052707Z",
     "shell.execute_reply": "2025-03-05T16:40:08.051984Z"
    },
    "papermill": {
     "duration": 0.015988,
     "end_time": "2025-03-05T16:40:08.054020",
     "exception": false,
     "start_time": "2025-03-05T16:40:08.038032",
     "status": "completed"
    },
    "scrolled": true,
    "tags": []
   },
   "outputs": [],
   "source": [
    "test_data_vectorized = vectorize_data(test_data_raw,\n",
    "                                      master=train_data_raw)\n",
    "# test_data_vectorized\n"
   ]
  },
  {
   "cell_type": "markdown",
   "id": "bfb55570",
   "metadata": {
    "papermill": {
     "duration": 0.008934,
     "end_time": "2025-03-05T16:40:08.072068",
     "exception": false,
     "start_time": "2025-03-05T16:40:08.063134",
     "status": "completed"
    },
    "tags": []
   },
   "source": [
    "## 3.4. Обработка недостающих значений"
   ]
  },
  {
   "cell_type": "code",
   "execution_count": 21,
   "id": "da8362fe",
   "metadata": {
    "execution": {
     "iopub.execute_input": "2025-03-05T16:40:08.090821Z",
     "iopub.status.busy": "2025-03-05T16:40:08.090493Z",
     "iopub.status.idle": "2025-03-05T16:40:08.094783Z",
     "shell.execute_reply": "2025-03-05T16:40:08.094115Z"
    },
    "papermill": {
     "duration": 0.015075,
     "end_time": "2025-03-05T16:40:08.096084",
     "exception": false,
     "start_time": "2025-03-05T16:40:08.081009",
     "status": "completed"
    },
    "scrolled": true,
    "tags": []
   },
   "outputs": [],
   "source": [
    "test_data_filled = fill_data(test_data_vectorized)\n",
    "# test_data_filled\n"
   ]
  },
  {
   "cell_type": "markdown",
   "id": "447b35e1",
   "metadata": {
    "papermill": {
     "duration": 0.008787,
     "end_time": "2025-03-05T16:40:08.113848",
     "exception": false,
     "start_time": "2025-03-05T16:40:08.105061",
     "status": "completed"
    },
    "tags": []
   },
   "source": [
    "## 3.5. Конструирование признаков"
   ]
  },
  {
   "cell_type": "code",
   "execution_count": 22,
   "id": "b4db02d0",
   "metadata": {
    "execution": {
     "iopub.execute_input": "2025-03-05T16:40:08.132614Z",
     "iopub.status.busy": "2025-03-05T16:40:08.132280Z",
     "iopub.status.idle": "2025-03-05T16:40:08.136272Z",
     "shell.execute_reply": "2025-03-05T16:40:08.135566Z"
    },
    "papermill": {
     "duration": 0.014916,
     "end_time": "2025-03-05T16:40:08.137580",
     "exception": false,
     "start_time": "2025-03-05T16:40:08.122664",
     "status": "completed"
    },
    "scrolled": true,
    "tags": []
   },
   "outputs": [],
   "source": [
    "test_data_upgraded = add_features(test_data_filled)\n",
    "# test_data_upgraded\n"
   ]
  },
  {
   "cell_type": "markdown",
   "id": "9fb3e5d7",
   "metadata": {
    "papermill": {
     "duration": 0.00885,
     "end_time": "2025-03-05T16:40:08.155876",
     "exception": false,
     "start_time": "2025-03-05T16:40:08.147026",
     "status": "completed"
    },
    "tags": []
   },
   "source": [
    "## 3.6. Нормализация значений"
   ]
  },
  {
   "cell_type": "code",
   "execution_count": 23,
   "id": "044c28d7",
   "metadata": {
    "execution": {
     "iopub.execute_input": "2025-03-05T16:40:08.221696Z",
     "iopub.status.busy": "2025-03-05T16:40:08.221322Z",
     "iopub.status.idle": "2025-03-05T16:40:08.226084Z",
     "shell.execute_reply": "2025-03-05T16:40:08.225336Z"
    },
    "papermill": {
     "duration": 0.062417,
     "end_time": "2025-03-05T16:40:08.227384",
     "exception": false,
     "start_time": "2025-03-05T16:40:08.164967",
     "status": "completed"
    },
    "scrolled": true,
    "tags": []
   },
   "outputs": [],
   "source": [
    "test_data_normalized = normalize_data(test_data_upgraded,\n",
    "                                      master=train_data_upgraded)\n",
    "# test_data_normalized\n"
   ]
  },
  {
   "cell_type": "markdown",
   "id": "c865bc5c",
   "metadata": {
    "papermill": {
     "duration": 0.0088,
     "end_time": "2025-03-05T16:40:08.245809",
     "exception": false,
     "start_time": "2025-03-05T16:40:08.237009",
     "status": "completed"
    },
    "tags": []
   },
   "source": [
    "## 3.7. Формирование массива контрольных данных"
   ]
  },
  {
   "cell_type": "code",
   "execution_count": 24,
   "id": "2883932e",
   "metadata": {
    "execution": {
     "iopub.execute_input": "2025-03-05T16:40:08.265191Z",
     "iopub.status.busy": "2025-03-05T16:40:08.264856Z",
     "iopub.status.idle": "2025-03-05T16:40:08.270507Z",
     "shell.execute_reply": "2025-03-05T16:40:08.269499Z"
    },
    "papermill": {
     "duration": 0.016911,
     "end_time": "2025-03-05T16:40:08.271874",
     "exception": false,
     "start_time": "2025-03-05T16:40:08.254963",
     "status": "completed"
    },
    "tags": []
   },
   "outputs": [],
   "source": [
    "test_data = {\n",
    "    ftr: np.array(test_data_normalized[ftr].copy(), dtype=\"float32\")\n",
    "    for ftr in test_data_normalized\n",
    "}\n",
    "# test_data\n"
   ]
  },
  {
   "cell_type": "markdown",
   "id": "f304b5f7",
   "metadata": {
    "papermill": {
     "duration": 0.009109,
     "end_time": "2025-03-05T16:40:08.290491",
     "exception": false,
     "start_time": "2025-03-05T16:40:08.281382",
     "status": "completed"
    },
    "tags": []
   },
   "source": [
    "# 4. Формирование предсказаний\n",
    "## 4.1. Получение вероятности выживания"
   ]
  },
  {
   "cell_type": "code",
   "execution_count": 25,
   "id": "8fe0de1f",
   "metadata": {
    "execution": {
     "iopub.execute_input": "2025-03-05T16:40:08.310118Z",
     "iopub.status.busy": "2025-03-05T16:40:08.309780Z",
     "iopub.status.idle": "2025-03-05T16:40:08.855240Z",
     "shell.execute_reply": "2025-03-05T16:40:08.854505Z"
    },
    "papermill": {
     "duration": 0.557225,
     "end_time": "2025-03-05T16:40:08.856843",
     "exception": false,
     "start_time": "2025-03-05T16:40:08.299618",
     "status": "completed"
    },
    "scrolled": true,
    "tags": []
   },
   "outputs": [],
   "source": [
    "predictions_raw = new_model.predict(test_data, verbose=0)\n",
    "# predictions_raw\n"
   ]
  },
  {
   "cell_type": "markdown",
   "id": "67fd3811",
   "metadata": {
    "papermill": {
     "duration": 0.009103,
     "end_time": "2025-03-05T16:40:08.875824",
     "exception": false,
     "start_time": "2025-03-05T16:40:08.866721",
     "status": "completed"
    },
    "tags": []
   },
   "source": [
    "## 4.2. Округление значений до целого"
   ]
  },
  {
   "cell_type": "code",
   "execution_count": 26,
   "id": "ef91808d",
   "metadata": {
    "execution": {
     "iopub.execute_input": "2025-03-05T16:40:08.896947Z",
     "iopub.status.busy": "2025-03-05T16:40:08.896586Z",
     "iopub.status.idle": "2025-03-05T16:40:08.901118Z",
     "shell.execute_reply": "2025-03-05T16:40:08.900239Z"
    },
    "papermill": {
     "duration": 0.016746,
     "end_time": "2025-03-05T16:40:08.902321",
     "exception": false,
     "start_time": "2025-03-05T16:40:08.885575",
     "status": "completed"
    },
    "scrolled": true,
    "tags": []
   },
   "outputs": [],
   "source": [
    "predictions = [\n",
    "    int(round(prediction[0], 0)) for prediction in predictions_raw\n",
    "]\n",
    "# predictions\n"
   ]
  },
  {
   "cell_type": "markdown",
   "id": "21a4d259",
   "metadata": {
    "papermill": {
     "duration": 0.008695,
     "end_time": "2025-03-05T16:40:08.920446",
     "exception": false,
     "start_time": "2025-03-05T16:40:08.911751",
     "status": "completed"
    },
    "tags": []
   },
   "source": [
    "## 4.3. Запись результатов в файл"
   ]
  },
  {
   "cell_type": "code",
   "execution_count": 27,
   "id": "03640447",
   "metadata": {
    "execution": {
     "iopub.execute_input": "2025-03-05T16:40:08.939354Z",
     "iopub.status.busy": "2025-03-05T16:40:08.939090Z",
     "iopub.status.idle": "2025-03-05T16:40:08.945315Z",
     "shell.execute_reply": "2025-03-05T16:40:08.944495Z"
    },
    "papermill": {
     "duration": 0.017189,
     "end_time": "2025-03-05T16:40:08.946675",
     "exception": false,
     "start_time": "2025-03-05T16:40:08.929486",
     "status": "completed"
    },
    "scrolled": true,
    "tags": []
   },
   "outputs": [
    {
     "name": "stdout",
     "output_type": "stream",
     "text": [
      "File has been written.\n"
     ]
    }
   ],
   "source": [
    "with open(\"/kaggle/working/submission.csv\", mode=\"w\", encoding=\"utf-8\", newline='') as csvfile:\n",
    "    writer = csv.DictWriter(csvfile, fieldnames=[\"PassengerId\", \"Survived\"])\n",
    "    writer.writeheader()\n",
    "    for i, prediction in enumerate(predictions):\n",
    "        writer.writerow(\n",
    "            {\n",
    "                \"PassengerId\": read_data[i][\"PassengerId\"],\n",
    "                \"Survived\": prediction\n",
    "            }\n",
    "        )\n",
    "    print(\"File has been written.\")\n"
   ]
  }
 ],
 "metadata": {
  "kaggle": {
   "accelerator": "gpu",
   "dataSources": [
    {
     "databundleVersionId": 26502,
     "sourceId": 3136,
     "sourceType": "competition"
    }
   ],
   "dockerImageVersionId": 30919,
   "isGpuEnabled": true,
   "isInternetEnabled": false,
   "language": "python",
   "sourceType": "notebook"
  },
  "kernelspec": {
   "display_name": "Python 3",
   "language": "python",
   "name": "python3"
  },
  "language_info": {
   "codemirror_mode": {
    "name": "ipython",
    "version": 3
   },
   "file_extension": ".py",
   "mimetype": "text/x-python",
   "name": "python",
   "nbconvert_exporter": "python",
   "pygments_lexer": "ipython3",
   "version": "3.10.12"
  },
  "papermill": {
   "default_parameters": {},
   "duration": 228.801922,
   "end_time": "2025-03-05T16:40:11.079612",
   "environment_variables": {},
   "exception": null,
   "input_path": "__notebook__.ipynb",
   "output_path": "__notebook__.ipynb",
   "parameters": {},
   "start_time": "2025-03-05T16:36:22.277690",
   "version": "2.6.0"
  }
 },
 "nbformat": 4,
 "nbformat_minor": 5
}
